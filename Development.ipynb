{
 "cells": [
  {
   "cell_type": "markdown",
   "metadata": {},
   "source": [
    "### Introduction\n",
    "\n",
    "This notebook is used for developing the IBM Analytics Engine Library. I use [Jupyterlab](https://jupyterlab.readthedocs.io/en/stable/) for development.\n",
    "\n",
    "After changing any of the library code, restart the kernel of this notebook to pick up the changes.\n"
   ]
  },
  {
   "cell_type": "markdown",
   "metadata": {},
   "source": [
    "### Example Code"
   ]
  },
  {
   "cell_type": "markdown",
   "metadata": {},
   "source": [
    "#### Setup for developing the IBM Analytics Engine Library (e.g. on local machine)"
   ]
  },
  {
   "cell_type": "markdown",
   "metadata": {},
   "source": [
    "Setup python path for working directly with the IBM Analytics Engine Library source - this step is only required for developing locally."
   ]
  },
  {
   "cell_type": "code",
   "execution_count": 1,
   "metadata": {},
   "outputs": [],
   "source": [
    "import os, sys\n",
    "cwd = os.getcwd()\n",
    "if sys.path[0] != cwd:\n",
    "    sys.path.insert(0,cwd)\n",
    "# print(sys.path)"
   ]
  },
  {
   "cell_type": "markdown",
   "metadata": {},
   "source": [
    "#### Setup for using the IBM Analytics Engine Library (e.g. from Watson Studio)"
   ]
  },
  {
   "cell_type": "code",
   "execution_count": 2,
   "metadata": {},
   "outputs": [],
   "source": [
    "# !pip install --upgrade --quiet git+https://github.com/snowch/ibm-analytics-engine-python@master"
   ]
  },
  {
   "cell_type": "markdown",
   "metadata": {},
   "source": [
    "#### Using the IBM Analytics Engine Library"
   ]
  },
  {
   "cell_type": "markdown",
   "metadata": {},
   "source": [
    "Create a new resource group API client.\n",
    "\n",
    "First create an [API Key](https://console.bluemix.net/docs/iam/apikeys.html#platform-api-keys) and save it somewhere safe"
   ]
  },
  {
   "cell_type": "code",
   "execution_count": 3,
   "metadata": {},
   "outputs": [],
   "source": [
    "from ibm_analytics_engine.client import AnalyticsEngine\n",
    "import os\n",
    "\n",
    "home_directory = os.environ['HOME']\n",
    "\n",
    "# If you are using from Watson Studio, you could alternatively use the `api_key` paramater\n",
    "client = AnalyticsEngine(\n",
    "    api_key_filename = '{}/.ibmcloud/apiKey.json'.format(home_directory)\n",
    "    )"
   ]
  },
  {
   "cell_type": "markdown",
   "metadata": {},
   "source": [
    "Find our Resource Groups"
   ]
  },
  {
   "cell_type": "code",
   "execution_count": 4,
   "metadata": {},
   "outputs": [
    {
     "data": {
      "text/plain": [
       "[('16c478f93fbe44b2b74a5e29a4a20121', 'ibm-cloud-streaming-retail-demo'),\n",
       " ('3b90ff40e6cc43978189146817edc403', 'default'),\n",
       " ('778882adaf4a4fb0831830ccd39fdde2', 'CSnow Watson Data Demo'),\n",
       " ('c7a22cded9f64d7d88c25be8ae340297', 'Analyst Insights London 2018')]"
      ]
     },
     "execution_count": 4,
     "metadata": {},
     "output_type": "execute_result"
    }
   ],
   "source": [
    "[ (rg['id'], rg['name']) for rg in client.get_resource_groups()['resources'] ]"
   ]
  },
  {
   "cell_type": "markdown",
   "metadata": {},
   "source": [
    "Select the required resource group - this is required in the provisioning data"
   ]
  },
  {
   "cell_type": "code",
   "execution_count": 18,
   "metadata": {},
   "outputs": [
    {
     "name": "stdout",
     "output_type": "stream",
     "text": [
      "3b90ff40e6cc43978189146817edc403\n"
     ]
    }
   ],
   "source": [
    "resource_group_name = 'default'\n",
    "\n",
    "resource_group = [ (rg['id'], rg['name']) for rg in client.get_resource_groups()['resources'] if rg['name'] == resource_group_name ][0][0]\n",
    "print (resource_group)"
   ]
  },
  {
   "cell_type": "markdown",
   "metadata": {},
   "source": [
    "Define cluster provisioning configuration data"
   ]
  },
  {
   "cell_type": "code",
   "execution_count": 6,
   "metadata": {},
   "outputs": [],
   "source": [
    "# uncomment the variables below to set COS S3\n",
    "#\n",
    "#servicename = 'myservicename'\n",
    "#cos_s3_userkey = 'changeme'\n",
    "#cos_s3_endpoint = 'changeme'\n",
    "#cos_s3_secretkey = 'changeme'\n",
    "\n",
    "data = {\n",
    "    \"name\": \"MyAnalyticEngineInstance\",\n",
    "    \"resource_plan_id\": \"3175a5cf-61e3-4e79-aa2a-dff9a4e1f0ae\",\n",
    "    \"resource_group_id\": resource_group,\n",
    "    \"region_id\": \"us-south\",\n",
    "    \"parameters\": {\n",
    "        \"hardware_config\": \"default\",\n",
    "        \"num_compute_nodes\": \"1\",\n",
    "        \"software_package\": \"ae-1.1-spark\",\n",
    "        # uncomment the block below to set COS S3\n",
    "        #\n",
    "        #\"advanced_options\": {\n",
    "        #    \"ambari_config\": {\n",
    "        #        \"core-site\": {\n",
    "        #            \"fs.cos.{}.access.key\".format(servicename):  cos_s3_userkey,\n",
    "        #            \"fs.cos.{}.endpoint\".format(servicename):    cos_s3_endpoint,\n",
    "        #            \"fs.cos.{}.secret.key\".format(servicename):  cos_s3_secretkey\n",
    "        #        }\n",
    "        #    }\n",
    "        #}\n",
    "    }    \n",
    "}"
   ]
  },
  {
   "cell_type": "markdown",
   "metadata": {},
   "source": [
    "Provision the cluster - this call will return immediately, but the cluster could take 30 minutes or so to spin up"
   ]
  },
  {
   "cell_type": "code",
   "execution_count": 7,
   "metadata": {},
   "outputs": [],
   "source": [
    "create_cluster_response = client.create(data)\n",
    "\n",
    "# uncomment below to see the provisioning REST response\n",
    "\n",
    "# print(create_cluster_response)"
   ]
  },
  {
   "cell_type": "markdown",
   "metadata": {},
   "source": [
    "Get the cluster instance ID from the provisioning response"
   ]
  },
  {
   "cell_type": "code",
   "execution_count": null,
   "metadata": {},
   "outputs": [],
   "source": [
    "# some backend apis require different types of IDS\n",
    "id = create_cluster_response['id']\n",
    "instance_id = create_cluster_response['guid']\n",
    "\n",
    "# print(id)\n",
    "# print(instance_id)"
   ]
  },
  {
   "cell_type": "markdown",
   "metadata": {},
   "source": [
    "Check the current status at this moment in time"
   ]
  },
  {
   "cell_type": "code",
   "execution_count": 9,
   "metadata": {},
   "outputs": [
    {
     "data": {
      "text/plain": [
       "{'state': 'Preparing'}"
      ]
     },
     "execution_count": 9,
     "metadata": {},
     "output_type": "execute_result"
    }
   ],
   "source": [
    "client.cluster_status(instance_id) "
   ]
  },
  {
   "cell_type": "markdown",
   "metadata": {},
   "source": [
    "This call will block until provisioning had finished, either successfully or unsuccessfully"
   ]
  },
  {
   "cell_type": "code",
   "execution_count": 10,
   "metadata": {},
   "outputs": [
    {
     "data": {
      "text/plain": [
       "{'state': 'Active'}"
      ]
     },
     "execution_count": 10,
     "metadata": {},
     "output_type": "execute_result"
    }
   ],
   "source": [
    "client.cluster_status(instance_id, wait_until_finished_preparing=True)"
   ]
  },
  {
   "cell_type": "code",
   "execution_count": 14,
   "metadata": {},
   "outputs": [
    {
     "data": {
      "text/plain": [
       "<Response [204]>"
      ]
     },
     "execution_count": 14,
     "metadata": {},
     "output_type": "execute_result"
    }
   ],
   "source": [
    "client.delete(id)"
   ]
  },
  {
   "cell_type": "code",
   "execution_count": null,
   "metadata": {},
   "outputs": [],
   "source": []
  }
 ],
 "metadata": {
  "kernelspec": {
   "display_name": "Python 2",
   "language": "python",
   "name": "python2"
  },
  "language_info": {
   "codemirror_mode": {
    "name": "ipython",
    "version": 3
   },
   "file_extension": ".py",
   "mimetype": "text/x-python",
   "name": "python",
   "nbconvert_exporter": "python",
   "pygments_lexer": "ipython3",
   "version": "3.6.5"
  }
 },
 "nbformat": 4,
 "nbformat_minor": 2
}
