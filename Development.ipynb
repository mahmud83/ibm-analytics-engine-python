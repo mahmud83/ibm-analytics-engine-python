{
 "cells": [
  {
   "cell_type": "markdown",
   "metadata": {},
   "source": [
    "### Introduction\n",
    "\n",
    "This notebook is used for developing the IBM Analytics Engine Library. I use [Jupyterlab](https://jupyterlab.readthedocs.io/en/stable/) for development.\n",
    "\n",
    "After changing any of the library code, restart the kernel of this notebook to pick up the changes.\n"
   ]
  },
  {
   "cell_type": "markdown",
   "metadata": {},
   "source": [
    "### Example Code"
   ]
  },
  {
   "cell_type": "markdown",
   "metadata": {},
   "source": [
    "#### Setup for developing the IBM Analytics Engine Library (e.g. on local machine)"
   ]
  },
  {
   "cell_type": "markdown",
   "metadata": {},
   "source": [
    "Setup python path for working directly with the IBM Analytics Engine Library source - this step is only required for developing locally."
   ]
  },
  {
   "cell_type": "code",
   "execution_count": 1,
   "metadata": {},
   "outputs": [],
   "source": [
    "import os, sys\n",
    "cwd = os.getcwd()\n",
    "if sys.path[0] != cwd:\n",
    "    sys.path.insert(0,cwd)\n",
    "# print(sys.path)"
   ]
  },
  {
   "cell_type": "markdown",
   "metadata": {},
   "source": [
    "#### Setup for using the IBM Analytics Engine Library (e.g. from Watson Studio)"
   ]
  },
  {
   "cell_type": "code",
   "execution_count": null,
   "metadata": {},
   "outputs": [],
   "source": [
    "# !pip install --upgrade --quiet git+https://github.com/snowch/ibm-analytics-engine-python@master"
   ]
  },
  {
   "cell_type": "markdown",
   "metadata": {},
   "source": [
    "#### Using the IBM Analytics Engine Library"
   ]
  },
  {
   "cell_type": "markdown",
   "metadata": {},
   "source": [
    "Create a new resource group API client.\n",
    "\n",
    "First create an [API Key](https://console.bluemix.net/docs/iam/apikeys.html#platform-api-keys) and save it somewhere safe"
   ]
  },
  {
   "cell_type": "code",
   "execution_count": 2,
   "metadata": {},
   "outputs": [],
   "source": [
    "from ibm_analytics_engine.client import AnalyticsEngine\n",
    "import os\n",
    "\n",
    "home_directory = os.environ['HOME']\n",
    "\n",
    "client = AnalyticsEngine(\n",
    "    api_key_filename = '{}/.ibmcloud/apiKey.json'.format(home_directory)\n",
    "    )"
   ]
  },
  {
   "cell_type": "markdown",
   "metadata": {},
   "source": [
    "Find our Resource Groups"
   ]
  },
  {
   "cell_type": "code",
   "execution_count": 9,
   "metadata": {},
   "outputs": [
    {
     "data": {
      "text/plain": [
       "[('ae60ae320f1446878041d5ac9eee796a', 'ibm-cloud-streaming-retail-demo'),\n",
       " ('8315700b214044e0ab3aafbbfa4755b9', 'default'),\n",
       " ('885b9462dc6a4aea8c163b1e6a7d7ec9', 'CSnow Watson Data Demo')]",
      ]
     },
     "execution_count": 9,
     "metadata": {},
     "output_type": "execute_result"
    }
   ],
   "source": [
    "[ (rg['id'], rg['name']) for rg in client.get_resource_groups()['resources'] ]"
   ]
  },
  {
   "cell_type": "markdown",
   "metadata": {},
   "source": [
    "Select the required resource group - this is required in the provisioning data"
   ]
  },
  {
   "cell_type": "code",
   "execution_count": 13,
   "metadata": {},
   "outputs": [],
   "source": [
    "resource_group = '3b90ff40e6cc43978189146817edc403'"
   ]
  },
  {
   "cell_type": "markdown",
   "metadata": {},
   "source": [
    "Define cluster provisioning configuration data"
   ]
  },
  {
   "cell_type": "code",
   "execution_count": 14,
   "metadata": {},
   "outputs": [],
   "source": [
    "# uncomment the variables below to set COS S3\n",
    "#\n",
    "#servicename = 'myservicename'\n",
    "#cos_s3_userkey = 'changeme'\n",
    "#cos_s3_endpoint = 'changeme'\n",
    "#cos_s3_secretkey = 'changeme'\n",
    "\n",
    "data = {\n",
    "    \"name\": \"MyAnalyticEngineInstance\",\n",
    "    \"resource_plan_id\": \"3175a5cf-61e3-4e79-aa2a-dff9a4e1f0ae\",\n",
    "    \"resource_group_id\": resource_group,\n",
    "    \"region_id\": \"us-south\",\n",
    "    \"parameters\": {\n",
    "        \"hardware_config\": \"default\",\n",
    "        \"num_compute_nodes\": \"1\",\n",
    "        \"software_package\": \"ae-1.1-spark\",\n",
    "        # uncomment the block below to set COS S3\n",
    "        #\n",
    "        #\"advanced_options\": {\n",
    "        #    \"ambari_config\": {\n",
    "        #        \"core-site\": {\n",
    "        #            \"fs.cos.{}.access.key\".format(servicename):  cos_s3_userkey,\n",
    "        #            \"fs.cos.{}.endpoint\".format(servicename):    cos_s3_endpoint,\n",
    "        #            \"fs.cos.{}.secret.key\".format(servicename):  cos_s3_secretkey\n",
    "        #        }\n",
    "        #    }\n",
    "        #}\n",
    "    }    \n",
    "}"
   ]
  },
  {
   "cell_type": "markdown",
   "metadata": {},
   "source": [
    "Provision the cluster - this call will return immediately, but the cluster could take 30 minutes or so to spin up"
   ]
  },
  {
   "cell_type": "code",
   "execution_count": 15,
   "metadata": {},
   "outputs": [],
   "source": [
    "response = client.create(data)\n",
    "\n",
    "# uncomment below to see the provisioning REST response\n",
    "\n",
    "#print(response)"
   ]
  },
  {
   "cell_type": "markdown",
   "metadata": {},
   "source": [
    "Get the cluster instance ID from the provisioning response"
   ]
  },
  {
   "cell_type": "code",
   "execution_count": 16,
   "metadata": {},
   "outputs": [
    {
     "name": "stdout",
     "output_type": "stream",
     "text": [
      "5ca869e3-9ddb-4852-95ec-15c0f5ee66ff\n"
     ]
    }
   ],
   "source": [
    "instance_id = response['guid']\n",
    "print(instance_id)"
   ]
  },
  {
   "cell_type": "markdown",
   "metadata": {},
   "source": [
    "Check the current status at this moment in time"
   ]
  },
  {
   "cell_type": "code",
   "execution_count": 17,
   "metadata": {},
   "outputs": [
    {
     "data": {
      "text/plain": [
       "{'state': 'Preparing'}"
      ]
     },
     "execution_count": 17,
     "metadata": {},
     "output_type": "execute_result"
    }
   ],
   "source": [
    "client.cluster_status(instance_id) "
   ]
  },
  {
   "cell_type": "markdown",
   "metadata": {},
   "source": [
    "This call will block until provisioning had finished, either successfully or not"
   ]
  },
  {
   "cell_type": "code",
   "execution_count": 18,
   "metadata": {},
   "outputs": [
    {
     "data": {
      "text/plain": [
       "{'state': 'Active'}"
      ]
     },
     "execution_count": 18,
     "metadata": {},
     "output_type": "execute_result"
    }
   ],
   "source": [
    "client.cluster_status(instance_id, wait_until_finished_preparing=True)"
   ]
  },
  {
   "cell_type": "code",
   "execution_count": null,
   "metadata": {},
   "outputs": [],
   "source": []
  },
  {
   "cell_type": "code",
   "execution_count": null,
   "metadata": {},
   "outputs": [],
   "source": []
  }
 ],
 "metadata": {
  "kernelspec": {
   "display_name": "Python 2",
   "language": "python",
   "name": "python2"
  },
  "language_info": {
   "codemirror_mode": {
    "name": "ipython",
    "version": 3
   },
   "file_extension": ".py",
   "mimetype": "text/x-python",
   "name": "python",
   "nbconvert_exporter": "python",
   "pygments_lexer": "ipython3",
   "version": "3.6.5"
  }
 },
 "nbformat": 4,
 "nbformat_minor": 2
}
