{
 "cells": [
  {
   "cell_type": "markdown",
   "metadata": {},
   "source": [
    "### Introduction\n",
    "\n",
    "This notebook is used for developing the IBM Analytics Engine Library. I use [Jupyterlab](https://jupyterlab.readthedocs.io/en/stable/) for development.\n",
    "\n",
    "After changing any of the library code, restart the kernel of this notebook to pick up the changes.\n"
   ]
  },
  {
   "cell_type": "markdown",
   "metadata": {},
   "source": [
    "### Example Code"
   ]
  },
  {
   "cell_type": "markdown",
   "metadata": {},
   "source": [
    "Setup python path for working directly with the IBM Analytics Engine Library source - this step is only required for developing locally."
   ]
  },
  {
   "cell_type": "code",
   "execution_count": null,
   "metadata": {},
   "outputs": [],
   "source": [
    "import os, sys\n",
    "cwd = os.getcwd()\n",
    "if sys.path[0] != cwd:\n",
    "    sys.path.insert(0,cwd)\n",
    "print(sys.path)"
   ]
  },
  {
   "cell_type": "markdown",
   "metadata": {},
   "source": [
    "Create a new resource group API client.\n",
    "\n",
    "First create an [API Key](https://console.bluemix.net/docs/iam/apikeys.html#platform-api-keys) and save it to somewhere safe"
   ]
  },
  {
   "cell_type": "code",
   "execution_count": null,
   "metadata": {},
   "outputs": [],
   "source": [
    "from ibm_analytics_engine.resource_group.client import ResourceGroupAPI\n",
    "import os\n",
    "\n",
    "home_directory = os.environ['HOME']\n",
    "\n",
    "client = ResourceGroupAPI(\n",
    "    api_key_filename = '{}/.ibmcloud/apiKey.json'.format(home)\n",
    "    )"
   ]
  },
  {
   "cell_type": "markdown",
   "metadata": {},
   "source": [
    "Create a new IAE instance - this is work-in-progress."
   ]
  },
  {
   "cell_type": "code",
   "execution_count": null,
   "metadata": {},
   "outputs": [],
   "source": [
    "resource_group = 'change_me'\n",
    "\n",
    "data = {\n",
    "    \"name\": \"MyAnalyticEngineInstance\",\n",
    "    \"resource_plan_id\": \"3175a5cf-61e3-4e79-aa2a-dff9a4e1f0ae\",\n",
    "    \"resource_group_id\": resource_group,\n",
    "    \"region_id\": \"us-south\",\n",
    "    \"parameters\": {\n",
    "        \"hardware_config\": \"default\",\n",
    "        \"num_compute_nodes\": \"1\",\n",
    "        \"software_package\": \"ae-1.1-spark\"\n",
    "    }    \n",
    "}\n",
    "\n",
    "client.resource_instance.create(data)"
   ]
  }
 ],
 "metadata": {
  "kernelspec": {
   "display_name": "Python 2",
   "language": "python",
   "name": "python2"
  },
  "language_info": {
   "codemirror_mode": {
    "name": "ipython",
    "version": 2
   },
   "file_extension": ".py",
   "mimetype": "text/x-python",
   "name": "python",
   "nbconvert_exporter": "python",
   "pygments_lexer": "ipython2",
   "version": "2.7.15"
  }
 },
 "nbformat": 4,
 "nbformat_minor": 2
}
