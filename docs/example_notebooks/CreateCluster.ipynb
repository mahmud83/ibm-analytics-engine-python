{
 "cells": [
  {
   "cell_type": "markdown",
   "metadata": {},
   "source": [
    "This example uses a python library for working with an IAE instance.\n",
    "\n",
    "Find the library documentation here: http://ibm-analytics-engine-python.readthedocs.io/en/latest/"
   ]
  },
  {
   "cell_type": "code",
   "execution_count": null,
   "metadata": {
    "collapsed": false,
    "deletable": true,
    "editable": true
   },
   "outputs": [],
   "source": [
    "! pip install --quiet --upgrade git+https://github.com/snowch/ibm-analytics-engine-python@master"
   ]
  },
  {
   "cell_type": "code",
   "execution_count": null,
   "metadata": {
    "collapsed": false,
    "deletable": true,
    "editable": true
   },
   "outputs": [],
   "source": [
    "from ibm_analytics_engine import CloudFoundryAPI, CloudFoundryAPI\n",
    "from ibm_analytics_engine import IAE, IAEServicePlanGuid"
   ]
  },
  {
   "cell_type": "code",
   "execution_count": null,
   "metadata": {
    "collapsed": false,
    "deletable": true,
    "editable": true
   },
   "outputs": [],
   "source": [
    "# Download your IBM Cloud API Key and save it in a secure location\n",
    "\n",
    "cf = CloudFoundryAPI(api_key_filename='/Users/snowch/.apiKeys/csnow.json')"
   ]
  },
  {
   "cell_type": "code",
   "execution_count": null,
   "metadata": {
    "collapsed": false,
    "deletable": true,
    "editable": true
   },
   "outputs": [],
   "source": [
    "# Provide your organizaton name and space name:\n",
    "\n",
    "SPACE_GUID = cf.space_guid(org_name='my_org_name', space_name='my_space_name')\n",
    "print(SPACE_GUID)"
   ]
  },
  {
   "cell_type": "code",
   "execution_count": null,
   "metadata": {
    "collapsed": false,
    "deletable": true,
    "editable": true
   },
   "outputs": [],
   "source": [
    "# If you couldn't find your space guid, uncomment and run the following cell to print\n",
    "# out all your orgs and spaces\n",
    "\n",
    "# cf.print_orgs_and_spaces()"
   ]
  },
  {
   "cell_type": "code",
   "execution_count": null,
   "metadata": {
    "collapsed": true,
    "deletable": true,
    "editable": true
   },
   "outputs": [],
   "source": [
    "iae = IAE(cf_client=cf)"
   ]
  },
  {
   "cell_type": "code",
   "execution_count": null,
   "metadata": {
    "collapsed": false,
    "deletable": true,
    "editable": true
   },
   "outputs": [],
   "source": [
    "# List the clusters in the space\n",
    "\n",
    "iae.clusters(space_guid=SPACE_GUID)"
   ]
  },
  {
   "cell_type": "code",
   "execution_count": null,
   "metadata": {
    "collapsed": true,
    "deletable": true,
    "editable": true
   },
   "outputs": [],
   "source": [
    "cluster_guid = iae.create_cluster(service_instance_name='MY_HADOOP_CLUSTER', \n",
    "                   service_plan_guid=IAEServicePlanGuid.LITE, \n",
    "                   cluster_creation_parameters={\n",
    "                        \"hardware_config\": \"default\",\n",
    "                        \"num_compute_nodes\": 1,\n",
    "                        \"software_package\": \"ae-1.0-spark\",\n",
    "                    }, \n",
    "                   space_guid=SPACE_GUID)\n",
    "\n",
    "# Alternative options for service_plan_guid:\n",
    "    \n",
    "# IAEServicePlanGuid.STD_HOURLY\n",
    "# IAEServicePlanGuid.STD_MONTHLY"
   ]
  },
  {
   "cell_type": "code",
   "execution_count": null,
   "metadata": {
    "collapsed": false,
    "deletable": true,
    "editable": true
   },
   "outputs": [],
   "source": [
    "import time\n",
    "\n",
    "while iae.status(cluster_instance_guid=cluster_guid) == 'in progress':\n",
    "    print('status is \"in progress\"')\n",
    "    time.sleep(60)"
   ]
  },
  {
   "cell_type": "code",
   "execution_count": null,
   "metadata": {
    "collapsed": false,
    "deletable": true,
    "editable": true
   },
   "outputs": [],
   "source": [
    "# Only run this cell after the previous cell has finished with the status 'succeeded',"
    "# otherwise you will receive an error trying to get or create the credentials.",
    "\n",
    "import json\n",
    "vcap = iae.get_or_create_credentials(cluster_instance_guid=cluster_guid)\n",
    "\n",
    "vcap_formatted = json.dumps(vcap_json, indent=4, separators=(',', ': '))\n",
    "print(vcap_formatted)\n",
    "\n",
    "with open('./vcap.json', 'w') as vcap_file:\n",
    "    vcap_file.write(vcap_formatted)"
   ]
  },
  {
   "cell_type": "code",
   "execution_count": null,
   "metadata": {
    "collapsed": true
   },
   "outputs": [],
   "source": [
    "iae.delete_cluster(cluster_guid, recursive=True)"
   ]
  }
 ],
 "metadata": {
  "kernelspec": {
   "display_name": "Python 3",
   "language": "python",
   "name": "python3"
  },
  "language_info": {
   "codemirror_mode": {
    "name": "ipython",
    "version": 3
   },
   "file_extension": ".py",
   "mimetype": "text/x-python",
   "name": "python",
   "nbconvert_exporter": "python",
   "pygments_lexer": "ipython3",
   "version": "3.6.2"
  }
 },
 "nbformat": 4,
 "nbformat_minor": 2
}
